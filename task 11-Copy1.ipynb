{
 "cells": [
  {
   "cell_type": "code",
   "execution_count": 1,
   "metadata": {},
   "outputs": [],
   "source": [
    "#Ask 2 numbers from users and store it in num1 and num2\n",
    "#Ask user to press 1 for addition,2 for subtraction,3 for multiplication and 4 for division\n",
    "#create 4 seperate functions for each operation (i.e. addition,subtraction,multiplication and division)\n",
    "#based on number given by user,call that perticular function and print the output"
   ]
  },
  {
   "cell_type": "code",
   "execution_count": 23,
   "metadata": {},
   "outputs": [
    {
     "name": "stdout",
     "output_type": "stream",
     "text": [
      "enter the num1 :2\n",
      "enter the num2 :3\n",
      "press 1 for addition\n",
      "press 2 for subtraction\n",
      "press 3 for multiplication\n",
      "press 4 for division\n",
      "press the operation you want to perform from 1 2 3 4\n",
      "2\n",
      "-1\n"
     ]
    }
   ],
   "source": [
    "num1=int(input(\"enter the num1 :\"))\n",
    "num2=int(input(\"enter the num2 :\"))\n",
    "print(\"press 1 for addition\\n\"\n",
    "      \"press 2 for subtraction\\n\"\n",
    "      \"press 3 for multiplication\\n\"\n",
    "      \"press 4 for division\")\n",
    "select=int(input(\"press the operation you want to perform from 1 2 3 4\\n\"))\n",
    "\n",
    "if select==1:\n",
    "    def add():\n",
    "        print(num1,\"+\",num2,\"=\" ,num1+num2)\n",
    "    add()\n",
    "    \n",
    "elif select==2:\n",
    "    def sub():\n",
    "       print(num1,\"-\",num2,\"=\",num1-num2)\n",
    "    sub()\n",
    "\n",
    "elif select==3:\n",
    "    def mul():\n",
    "        print(num1,num1*num2\n",
    "    mul()\n",
    "    \n",
    "elif select==4:\n",
    "    def div():\n",
    "        num1/num2\n",
    "    div()\n",
    "        \n",
    "else:\n",
    "    print(\"invalid input\")\n",
    "    \n"
   ]
  },
  {
   "cell_type": "code",
   "execution_count": null,
   "metadata": {},
   "outputs": [],
   "source": []
  }
 ],
 "metadata": {
  "kernelspec": {
   "display_name": "Python 3",
   "language": "python",
   "name": "python3"
  },
  "language_info": {
   "codemirror_mode": {
    "name": "ipython",
    "version": 3
   },
   "file_extension": ".py",
   "mimetype": "text/x-python",
   "name": "python",
   "nbconvert_exporter": "python",
   "pygments_lexer": "ipython3",
   "version": "3.7.6"
  }
 },
 "nbformat": 4,
 "nbformat_minor": 4
}
